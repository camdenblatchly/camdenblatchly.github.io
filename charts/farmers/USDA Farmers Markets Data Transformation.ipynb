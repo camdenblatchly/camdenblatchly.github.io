{
 "cells": [
  {
   "cell_type": "code",
   "execution_count": 127,
   "metadata": {},
   "outputs": [],
   "source": [
    "import pandas as pd\n",
    "\n",
    "usda_markets = pd.read_csv(\"data/usda_farmers_market_data.csv\")\n",
    "df = pd.DataFrame(usda_markets)"
   ]
  },
  {
   "cell_type": "code",
   "execution_count": 128,
   "metadata": {},
   "outputs": [],
   "source": [
    "state_counts = dict()\n",
    "for row in df.itertuples():\n",
    "    key = row[11]\n",
    "    if key in state_counts:\n",
    "        state_counts[key] += 1\n",
    "    else:\n",
    "        state_counts[key] = 1\n",
    "\n"
   ]
  },
  {
   "cell_type": "code",
   "execution_count": 129,
   "metadata": {},
   "outputs": [],
   "source": [
    "states = []\n",
    "counts = []\n",
    "\n",
    "for key in state_counts:\n",
    "    states.append(key)\n",
    "    counts.append(state_counts[key])\n",
    "    \n",
    "data = {'state': states, 'count': counts}\n",
    "df = pd.DataFrame(data)"
   ]
  },
  {
   "cell_type": "code",
   "execution_count": 130,
   "metadata": {},
   "outputs": [],
   "source": [
    "file_name = \"data/usda_state_markets_counts.csv\"\n",
    "export_csv = df.to_csv(file_name, encoding='utf-8', index=False)"
   ]
  },
  {
   "cell_type": "code",
   "execution_count": null,
   "metadata": {},
   "outputs": [],
   "source": []
  }
 ],
 "metadata": {
  "kernelspec": {
   "display_name": "Python 3",
   "language": "python",
   "name": "python3"
  },
  "language_info": {
   "codemirror_mode": {
    "name": "ipython",
    "version": 3
   },
   "file_extension": ".py",
   "mimetype": "text/x-python",
   "name": "python",
   "nbconvert_exporter": "python",
   "pygments_lexer": "ipython3",
   "version": "3.6.3"
  }
 },
 "nbformat": 4,
 "nbformat_minor": 2
}
